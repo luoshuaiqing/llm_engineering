{
 "cells": [
  {
   "cell_type": "markdown",
   "id": "fe12c203-e6a6-452c-a655-afb8a03a4ff5",
   "metadata": {},
   "source": [
    "# End of week 1 solution\n",
    "\n",
    "To demonstrate your familiarity with OpenAI API, and also Ollama, build a tool that takes a technical question,  \n",
    "and responds with an explanation. This is a tool that you will be able to use yourself during the course!\n",
    "\n",
    "After week 2 you'll be able to add a User Interface to this tool, giving you a valuable application."
   ]
  },
  {
   "cell_type": "code",
   "execution_count": 1,
   "id": "c1070317-3ed9-4659-abe3-828943230e03",
   "metadata": {},
   "outputs": [],
   "source": [
    "# imports\n",
    "\n",
    "from dotenv import load_dotenv\n",
    "from IPython.display import Markdown, display, update_display\n",
    "from openai import OpenAI\n",
    "import ollama"
   ]
  },
  {
   "cell_type": "code",
   "execution_count": 2,
   "id": "4a456906-915a-4bfd-bb9d-57e505c5093f",
   "metadata": {},
   "outputs": [],
   "source": [
    "# constants\n",
    "\n",
    "MODEL_GPT = 'gpt-4o-mini'\n",
    "MODEL_LLAMA = 'llama3.2'"
   ]
  },
  {
   "cell_type": "code",
   "execution_count": 3,
   "id": "a8d7923c-5f28-4c30-8556-342d7c8497c1",
   "metadata": {},
   "outputs": [],
   "source": [
    "# set up environment\n",
    "\n",
    "load_dotenv()\n",
    "openai = OpenAI()\n"
   ]
  },
  {
   "cell_type": "code",
   "execution_count": 4,
   "id": "3f0d0137-52b0-47a8-81a8-11a90a010798",
   "metadata": {},
   "outputs": [],
   "source": [
    "# here is the question; type over this to ask something new\n",
    "\n",
    "question = \"\"\"\n",
    "Please explain what this code does and why:\n",
    "yield from {book.get(\"author\") for book in books if book.get(\"author\")}\n",
    "\"\"\""
   ]
  },
  {
   "cell_type": "code",
   "execution_count": 5,
   "id": "8595807b-8ae2-4e1b-95d9-e8532142e8bb",
   "metadata": {},
   "outputs": [],
   "source": [
    "# prompts\n",
    "\n",
    "system_prompt = \"You are a helpful technical tutor who answers questions about python code, software engineering, data science and LLMs\"\n",
    "user_prompt = \"Please give a detailed explanation to the following question: \" + question"
   ]
  },
  {
   "cell_type": "code",
   "execution_count": 6,
   "id": "9605cbb6-3d3f-4969-b420-7f4cae0b9328",
   "metadata": {},
   "outputs": [],
   "source": [
    "# messages\n",
    "\n",
    "messages = [\n",
    "    {\"role\": \"system\", \"content\": system_prompt},\n",
    "    {\"role\": \"user\", \"content\": user_prompt}\n",
    "]"
   ]
  },
  {
   "cell_type": "code",
   "execution_count": 7,
   "id": "60ce7000-a4a5-4cce-a261-e75ef45063b4",
   "metadata": {},
   "outputs": [
    {
     "data": {
      "text/markdown": [
       "Certainly! Let’s break down the code you've provided step by step.\n",
       "\n",
       "### Code Explanation\n",
       "\n",
       "**Code:**\n",
       "python\n",
       "yield from {book.get(\"author\") for book in books if book.get(\"author\")}\n",
       "\n",
       "\n",
       "#### 1. **Understanding the Context - `yield from`**\n",
       "- The `yield from` statement is used within a generator function in Python. A generator is a type of iterable that is used to create iterators in a memory-efficient way—allowing you to iterate through a sequence without having to store the entire sequence in memory.\n",
       "- When you use `yield from`, you delegate part of your generator's operations to another iterable (in this case, the set comprehension that follows).\n",
       "\n",
       "#### 2. **Set Comprehension**\n",
       "python\n",
       "{book.get(\"author\") for book in books if book.get(\"author\")}\n",
       "\n",
       "\n",
       "- This expression is a **set comprehension**. A set comprehension in Python creates a new set from an iterable (in this case, the list `books`).\n",
       "- Here’s how it works:\n",
       "  - `for book in books`: This part iterates over the iterable `books` (assuming `books` is a list of dictionaries).\n",
       "  - `book.get(\"author\")`: This tries to access the \"author\" key from the `book` dictionary. If \"author\" exists, it returns the corresponding value; if not, it returns `None`.\n",
       "  - `if book.get(\"author\")`: This condition filters the books. It only includes the author's name in the set if the name is not `None` or a falsy value (like an empty string).\n",
       "- The overall effect is that it creates a set of authors, with each author appearing only once (since sets do not allow duplicate entries).\n",
       "\n",
       "#### 3. **Combining Together**\n",
       "- When you combine `yield from` with the set comprehension, you're effectively creating a generator that yields each unique author from the `books` list one at a time.\n",
       "- Here's how the process works:\n",
       "  - It builds a set of authors from the `books`.\n",
       "  - It uses `yield from` to yield each author from this set individually.\n",
       "\n",
       "### Example in Context\n",
       "\n",
       "Let’s put this into a more concrete context with a simple example:\n",
       "\n",
       "python\n",
       "# Sample data\n",
       "books = [\n",
       "    {\"title\": \"Book A\", \"author\": \"Author 1\"},\n",
       "    {\"title\": \"Book B\", \"author\": \"Author 2\"},\n",
       "    {\"title\": \"Book C\", \"author\": None},\n",
       "    {\"title\": \"Book D\", \"author\": \"Author 1\"},  # Duplicate author\n",
       "    {\"title\": \"Book E\", \"author\": \"\"}\n",
       "]\n",
       "\n",
       "# Generator function using the code provided\n",
       "def get_unique_authors(books):\n",
       "    yield from {book.get(\"author\") for book in books if book.get(\"author\")}\n",
       "\n",
       "# Using the generator\n",
       "for author in get_unique_authors(books):\n",
       "    print(author)\n",
       "\n",
       "\n",
       "#### Expected Output:\n",
       "\n",
       "Author 1\n",
       "Author 2\n",
       "\n",
       "\n",
       "### Why Use This Approach?\n",
       "- **Efficiency**: The use of a generator enables processing of potentially large collections without consuming a lot of memory. You only generate the authors as they are needed, rather than loading them all at once.\n",
       "- **Uniqueness**: A set inherently prevents duplicate authors from being yielded.\n",
       "- **Readability**: The code is concise and leverages Python's powerful comprehensions and generator functionality to express the intent clearly.\n",
       "\n",
       "### Summary\n",
       "The provided code creates a generator function that yields unique authors from a list of books, effectively filtering out any `None` or empty author values and ensuring that each author is only yielded once. This makes it a practical solution for scenarios where you need to work with large datasets efficiently without allowing duplicates."
      ],
      "text/plain": [
       "<IPython.core.display.Markdown object>"
      ]
     },
     "metadata": {},
     "output_type": "display_data"
    }
   ],
   "source": [
    "# Get gpt-4o-mini to answer, with streaming\n",
    "\n",
    "stream = openai.chat.completions.create(model=MODEL_GPT, messages=messages,stream=True)\n",
    "    \n",
    "response = \"\"\n",
    "display_handle = display(Markdown(\"\"), display_id=True)\n",
    "for chunk in stream:\n",
    "    response += chunk.choices[0].delta.content or ''\n",
    "    response = response.replace(\"```\",\"\").replace(\"markdown\", \"\")\n",
    "    update_display(Markdown(response), display_id=display_handle.display_id)"
   ]
  },
  {
   "cell_type": "code",
   "execution_count": 8,
   "id": "8f7c8ea8-4082-4ad0-8751-3301adcf6538",
   "metadata": {},
   "outputs": [
    {
     "data": {
      "text/markdown": [
       "**Explanation of the Code**\n",
       "\n",
       "The given code snippet is written in Python and uses several advanced features, including generators, dictionary iteration, and list comprehension.\n",
       "\n",
       "Here's a breakdown of what the code does:\n",
       "\n",
       "*   `yield from`: This keyword is used to yield values from an iterator. When used with `from`, it yields values from another iterable.\n",
       "*   `{... for book in books if book.get(\"author\")}`: This is a dictionary iteration using a generator expression.\n",
       "    *   The outer syntax, `{}`, indicates that this is a dictionary literal, but since the code doesn't use dictionary notation (i.e., `key: value` pairs) directly, we can consider it as a dict comprehension-like pattern. Instead, this is effectively an iterated over an existing list or similar iterable (`books`) where each item in the collection satisfies a condition.\n",
       "    *   The inner syntax, `\"author\"` for book in books if book.get(\"author\")`, indicates that you want to iterate over all items in `books` for which the value associated with key `\"author\"` is truthy. This essentially means selecting only dictionaries that contain an `\"author\"` key.\n",
       "*   `book.get(\"author\")`: Inside the generator expression, this function call retrieves the value of the `\"author\"` key from each dictionary being iterated over.\n",
       "\n",
       "**Putting it All Together**\n",
       "\n",
       "The code's intent can be summarized as follows: \"For each book in `books`, if the book has an author, yield that author.\"\n",
       "\n",
       "Here is a more readable and equivalent version of this Python snippet:\n",
       "\n",
       "```python\n",
       "for book in books:\n",
       "    if 'author' in book:\n",
       "        yield book.get('author')\n",
       "```\n",
       "\n",
       "However, keep in mind that using a generator expression can be faster for large datasets because it doesn't require creating an intermediate list.\n",
       "\n",
       "**Why It's Used**\n",
       "\n",
       "This code is commonly used when you want to filter and process items from a collection based on certain conditions. In the context of data processing or data analysis, this could represent extracting book authors from a dataset that contains books with varying author information.\n",
       "\n",
       "For example:\n",
       "\n",
       "```python\n",
       "# Sample data representing books with their respective authors\n",
       "books = [\n",
       "    {\"title\": \"The Great Gatsby\", \"author\": \"F. Scott Fitzgerald\"},\n",
       "    {\"title\": \"Pride and Prejudice\", \"author\": None},\n",
       "    {\"title\": \"To Kill a Mockingbird\", \"author\": \"Harper Lee\"}\n",
       "]\n",
       "\n",
       "# Using the given code to extract authors from books\n",
       "authors = yield from {book.get(\"author\") for book in books if book.get(\"author\")}\n",
       "print(authors)  # Output: ['F. Scott Fitzgerald', 'Harper Lee']\n",
       "```\n",
       "\n",
       "In summary, this code snippet leverages Python's generator expression and dictionary iteration features to efficiently process a collection of items based on specific conditions."
      ],
      "text/plain": [
       "<IPython.core.display.Markdown object>"
      ]
     },
     "metadata": {},
     "output_type": "display_data"
    }
   ],
   "source": [
    "# Get Llama 3.2 to answer\n",
    "\n",
    "response = ollama.chat(model=MODEL_LLAMA, messages=messages)\n",
    "reply = response['message']['content']\n",
    "display(Markdown(reply))"
   ]
  },
  {
   "cell_type": "markdown",
   "id": "7e14bcdb-b928-4b14-961e-9f7d8c7335bf",
   "metadata": {},
   "source": [
    "# Congratulations!\n",
    "\n",
    "You could make it better by taking in the question using  \n",
    "`my_question = input(\"Please enter your question:\")`\n",
    "\n",
    "And then creating the prompts and making the calls interactively."
   ]
  },
  {
   "cell_type": "code",
   "execution_count": null,
   "id": "da663d73-dd2a-4fff-84df-2209cf2b330b",
   "metadata": {},
   "outputs": [],
   "source": []
  },
  {
   "cell_type": "code",
   "execution_count": null,
   "id": "3e569022-c353-47ea-88c6-afa7e7167318",
   "metadata": {},
   "outputs": [],
   "source": []
  }
 ],
 "metadata": {
  "kernelspec": {
   "display_name": "Python 3 (ipykernel)",
   "language": "python",
   "name": "python3"
  },
  "language_info": {
   "codemirror_mode": {
    "name": "ipython",
    "version": 3
   },
   "file_extension": ".py",
   "mimetype": "text/x-python",
   "name": "python",
   "nbconvert_exporter": "python",
   "pygments_lexer": "ipython3",
   "version": "3.11.13"
  }
 },
 "nbformat": 4,
 "nbformat_minor": 5
}
